{
  "nbformat": 4,
  "nbformat_minor": 0,
  "metadata": {
    "colab": {
      "name": "Laboratorio8junio.ipynb",
      "provenance": [],
      "authorship_tag": "ABX9TyMQertS21FMw/4rLbiFEDnV",
      "include_colab_link": true
    },
    "kernelspec": {
      "name": "python3",
      "display_name": "Python 3"
    },
    "language_info": {
      "name": "python"
    }
  },
  "cells": [
    {
      "cell_type": "markdown",
      "metadata": {
        "id": "view-in-github",
        "colab_type": "text"
      },
      "source": [
        "<a href=\"https://colab.research.google.com/github/DanielMadrigalVasquez/DanielMadrigalVasquez/blob/main/Laboratorio8junio.ipynb\" target=\"_parent\"><img src=\"https://colab.research.google.com/assets/colab-badge.svg\" alt=\"Open In Colab\"/></a>"
      ]
    },
    {
      "cell_type": "markdown",
      "source": [
        "Daniel Madrigal Vasquez"
      ],
      "metadata": {
        "id": "mlLR7eN_BY_q"
      }
    },
    {
      "cell_type": "markdown",
      "source": [
        "Laboratorio Inicial de uso de colab"
      ],
      "metadata": {
        "id": "pGQJFuCUBpmN"
      }
    },
    {
      "cell_type": "code",
      "source": [
        "import pandas as pd\n",
        "from google.colab import auth\n",
        "auth.authenticate_user()\n",
        "\n",
        "import gspread \n",
        "from google.auth import default\n",
        "creds, _ = default()\n",
        "\n",
        "gc = gspread.authorize(creds)\n",
        "sh = gc.create('Daniel Madrigal')\n",
        "\n",
        "\n"
      ],
      "metadata": {
        "id": "Cyt9x_aPCCWm"
      },
      "execution_count": 4,
      "outputs": []
    },
    {
      "cell_type": "code",
      "source": [
        "worksheet = gc.open('Daniel Madrigal').sheet1\n",
        "\n",
        "cell_list = worksheet.range('A1:G14')\n",
        "\n",
        "import random\n",
        "for cell in cell_list:\n",
        "  cell.value = random.randint(5,500)\n",
        "\n",
        "worksheet.update_cells(cell_list)\n"
      ],
      "metadata": {
        "colab": {
          "base_uri": "https://localhost:8080/"
        },
        "id": "k3V850N7Eh4B",
        "outputId": "179ec45c-fffb-4e8b-9c9f-5b52989bcc12"
      },
      "execution_count": 7,
      "outputs": [
        {
          "output_type": "execute_result",
          "data": {
            "text/plain": [
              "{'spreadsheetId': '1W-tmT0V_mNAsHKSLfRAjgqQvUy3bLiSXPAEjhCIop7Q',\n",
              " 'updatedCells': 98,\n",
              " 'updatedColumns': 7,\n",
              " 'updatedRange': \"'Hoja 1'!A1:G14\",\n",
              " 'updatedRows': 14}"
            ]
          },
          "metadata": {},
          "execution_count": 7
        }
      ]
    },
    {
      "cell_type": "code",
      "source": [
        "worsheet = gc.open('Daniel Madrigal').sheet1\n",
        "rows = worksheet.get_all_values()\n",
        "print(rows)"
      ],
      "metadata": {
        "colab": {
          "base_uri": "https://localhost:8080/"
        },
        "id": "RntLLC41H0rJ",
        "outputId": "aa23473f-5cab-499d-a0ed-7113086f7384"
      },
      "execution_count": 8,
      "outputs": [
        {
          "output_type": "stream",
          "name": "stdout",
          "text": [
            "[['330', '199', '288', '104', '387', '15', '318'], ['238', '159', '446', '444', '253', '292', '194'], ['207', '234', '311', '255', '286', '63', '65'], ['339', '239', '246', '489', '213', '129', '452'], ['68', '58', '352', '190', '361', '22', '190'], ['34', '70', '435', '81', '285', '24', '432'], ['278', '489', '362', '221', '354', '383', '476'], ['280', '368', '87', '447', '302', '345', '459'], ['348', '324', '214', '44', '218', '228', '68'], ['34', '353', '361', '258', '461', '158', '182'], ['401', '128', '116', '130', '97', '404', '21'], ['298', '98', '134', '168', '140', '218', '203'], ['366', '412', '328', '99', '494', '115', '130'], ['428', '84', '341', '105', '349', '167', '264']]\n"
          ]
        }
      ]
    }
  ]
}